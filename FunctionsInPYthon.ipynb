{
    "cells": [
        {
            "cell_type": "markdown",
            "metadata": {
                "collapsed": true
            },
            "source": "# Functions In PYthon"
        },
        {
            "cell_type": "markdown",
            "metadata": {},
            "source": "Functions are blocks of code which perform operations that are specified by that function. They are reusable, let us break down taks, and allow us to reuse code in different programs. "
        },
        {
            "cell_type": "code",
            "execution_count": 10,
            "metadata": {},
            "outputs": [],
            "source": "# Function example: Add 1 to a and store as b\n\ndef add(a):\n    \n    \"add 1 to a\"\n    \n    b = a + 1\n    print(a,\"if you add one\", b)\n    return(b)"
        },
        {
            "cell_type": "code",
            "execution_count": 11,
            "metadata": {},
            "outputs": [
                {
                    "name": "stdout",
                    "output_type": "stream",
                    "text": "Help on function add in module __main__:\n\nadd(a)\n    add 1 to a\n\n"
                }
            ],
            "source": "# We can also get help on add function\n\nhelp(add)"
        },
        {
            "cell_type": "code",
            "execution_count": 12,
            "metadata": {},
            "outputs": [
                {
                    "name": "stdout",
                    "output_type": "stream",
                    "text": "1 if you add one 2\n"
                },
                {
                    "data": {
                        "text/plain": "2"
                    },
                    "execution_count": 12,
                    "metadata": {},
                    "output_type": "execute_result"
                }
            ],
            "source": "#Let us recall our function add()\n\nadd(1)"
        },
        {
            "cell_type": "code",
            "execution_count": 15,
            "metadata": {},
            "outputs": [
                {
                    "name": "stdout",
                    "output_type": "stream",
                    "text": "24\n"
                }
            ],
            "source": "# Multiplication function\n\ndef Mult(a,b):\n    c = a * b\n    return(c)\nresult = Mult(12,2)\nprint(result)"
        },
        {
            "cell_type": "code",
            "execution_count": 16,
            "metadata": {},
            "outputs": [
                {
                    "data": {
                        "text/plain": "54"
                    },
                    "execution_count": 16,
                    "metadata": {},
                    "output_type": "execute_result"
                }
            ],
            "source": "Mult(9,6)"
        },
        {
            "cell_type": "code",
            "execution_count": 17,
            "metadata": {},
            "outputs": [
                {
                    "data": {
                        "text/plain": "18.91222"
                    },
                    "execution_count": 17,
                    "metadata": {},
                    "output_type": "execute_result"
                }
            ],
            "source": "# Using floats\n\nMult(3.14,6.023)"
        },
        {
            "cell_type": "code",
            "execution_count": 19,
            "metadata": {},
            "outputs": [
                {
                    "data": {
                        "text/plain": "'BeyonceBeyonceBeyonceBeyonceBeyonce'"
                    },
                    "execution_count": 19,
                    "metadata": {},
                    "output_type": "execute_result"
                }
            ],
            "source": "# Mult() different type values\n\nMult(5,\"Beyonce\")"
        },
        {
            "cell_type": "markdown",
            "metadata": {},
            "source": "### Variables"
        },
        {
            "cell_type": "markdown",
            "metadata": {},
            "source": "There are two different types of variables: local and global. Local variables are those where they are declined inside a function. A global variable then is a variable declared outside a function. Local variable only has the parameter exist within the function, while the value of gloval variables are accessible throughout the program. "
        },
        {
            "cell_type": "code",
            "execution_count": null,
            "metadata": {},
            "outputs": [],
            "source": "# Function Definition \n\ndef triangle(a):\n    \n    # Local  variable b\n    b = 1\n    c = a * a + b\n    print(a, \"if you square + 1\", c)\n    return(c)d"
        },
        {
            "cell_type": "code",
            "execution_count": 3,
            "metadata": {},
            "outputs": [],
            "source": "# If there is no return statement, the function will return none\n\ndef TB12():\n    print(\"Tom Brady\")\n\ndef TB():\n    print(\"Tom Brady\")\n    return(None)"
        },
        {
            "cell_type": "code",
            "execution_count": 6,
            "metadata": {},
            "outputs": [
                {
                    "name": "stdout",
                    "output_type": "stream",
                    "text": "Tom Brady\nNone\n"
                }
            ],
            "source": "# Printing a function after a call revels None\n\nprint(TB12())"
        },
        {
            "cell_type": "code",
            "execution_count": 7,
            "metadata": {},
            "outputs": [
                {
                    "name": "stdout",
                    "output_type": "stream",
                    "text": "Tom Brady\nNone\n"
                }
            ],
            "source": "print(TB())"
        },
        {
            "cell_type": "code",
            "execution_count": 12,
            "metadata": {},
            "outputs": [
                {
                    "data": {
                        "text/plain": "'Tom Brady has 7 rings'"
                    },
                    "execution_count": 12,
                    "metadata": {},
                    "output_type": "execute_result"
                }
            ],
            "source": "# Concatenate function\n\ndef con(a,b):\n    return(a+b)\ncon(\"Tom Brady\", \" has 7 rings\")"
        },
        {
            "cell_type": "code",
            "execution_count": 16,
            "metadata": {},
            "outputs": [
                {
                    "data": {
                        "text/plain": "9"
                    },
                    "execution_count": 16,
                    "metadata": {},
                    "output_type": "execute_result"
                }
            ],
            "source": "# a and b calculation block \n\na1 = 5\nb1 = 9\nc1 = a1 + b1 + 2 * a1 * b1 - 1\nif(c1 < 0):\n    c1 = 0 \nelse:\n    c1 = 9\nc1   "
        },
        {
            "cell_type": "code",
            "execution_count": 30,
            "metadata": {},
            "outputs": [
                {
                    "data": {
                        "text/plain": "10"
                    },
                    "execution_count": 30,
                    "metadata": {},
                    "output_type": "execute_result"
                }
            ],
            "source": "# calculation block example 2\n\nz1 = 5\nz2 = 35\nz3 = (z1 * 2) + (z2 * 2)\n\nif (z3 > 80):\n    z3 = 1\nif (z3 == 80):\n    z3 = 10\nelse:\n    z3 = 0\nz3"
        },
        {
            "cell_type": "code",
            "execution_count": 34,
            "metadata": {},
            "outputs": [],
            "source": "# We can also replace lines of code with a function, first we need to make a function \n\ndef Equation(x,y):\n    z = x + y + 5 * 10 - 9.99\n    if(z < 0):\n        z = 0\n    else:\n        z = 1\n    return(z)"
        },
        {
            "cell_type": "code",
            "execution_count": 35,
            "metadata": {},
            "outputs": [
                {
                    "data": {
                        "text/plain": "1"
                    },
                    "execution_count": 35,
                    "metadata": {},
                    "output_type": "execute_result"
                }
            ],
            "source": "# Block 3\n\nx = 9\ny = 5\nz = Equation(x,y)\nz"
        },
        {
            "cell_type": "markdown",
            "metadata": {},
            "source": "### Pre-defined functions"
        },
        {
            "cell_type": "code",
            "execution_count": 36,
            "metadata": {},
            "outputs": [
                {
                    "name": "stdout",
                    "output_type": "stream",
                    "text": "[1, 2, 3, 4, 5, 6, 7, 8, 9, 10, 11, 12, 13, 14, 15, 16, 17, 18, 19, 20, 21, 22, 23, 24, 25, 26, 27, 28, 29]\n"
                }
            ],
            "source": "# print()\n\nfebruary_2016_days = [1, 2 ,3 ,4, 5, 6, 7, 8, 9, 10, 11, 12, 13, 14, 15, 16, 17, 18 ,19 ,20, 21, 22, 23 ,24, 25, 26, 27, 28, 29]\nprint(february_2016_days)"
        },
        {
            "cell_type": "code",
            "execution_count": 42,
            "metadata": {},
            "outputs": [
                {
                    "data": {
                        "text/plain": "14"
                    },
                    "execution_count": 42,
                    "metadata": {},
                    "output_type": "execute_result"
                }
            ],
            "source": "# sum ()\n\nadd = (5,9)\nsum (add)"
        },
        {
            "cell_type": "code",
            "execution_count": 43,
            "metadata": {},
            "outputs": [
                {
                    "data": {
                        "text/plain": "29"
                    },
                    "execution_count": 43,
                    "metadata": {},
                    "output_type": "execute_result"
                }
            ],
            "source": "# len()\n\nlen(february_2016_days)"
        },
        {
            "cell_type": "markdown",
            "metadata": {},
            "source": "### Using if/else statements and loops in functions"
        },
        {
            "cell_type": "code",
            "execution_count": 55,
            "metadata": {},
            "outputs": [],
            "source": "# Function example\n\ndef genre_type (rock, pop, trap):\n    print(rock, pop, trap)\n    if trap:\n        return \"1990s\"\n    if rock:\n        return \"1940s\"\n    else:\n        return \"1950s\""
        },
        {
            "cell_type": "code",
            "execution_count": 59,
            "metadata": {},
            "outputs": [],
            "source": "# We can use a loop in function\n\ndef genre_type (rock, pop, trap):\n    for roll in rock:\n        print(rock & roll)"
        },
        {
            "cell_type": "markdown",
            "metadata": {},
            "source": "### Setting defualt argument values in custom functions"
        },
        {
            "cell_type": "code",
            "execution_count": 67,
            "metadata": {},
            "outputs": [
                {
                    "name": "stdout",
                    "output_type": "stream",
                    "text": "this song is terrible it's rating is 5\n"
                }
            ],
            "source": "def isGoodRating(rating = 5):\n    if rating < 7:\n        print(\"this song is terrible it's rating is\", rating)\n        \n    else:\n        print(\"this song is pretty good, it's rating is\", rating)\n        \nisGoodRating(5)"
        },
        {
            "cell_type": "code",
            "execution_count": 68,
            "metadata": {},
            "outputs": [
                {
                    "name": "stdout",
                    "output_type": "stream",
                    "text": "this song is pretty good, it's rating is 8\n"
                }
            ],
            "source": "isGoodRating(8)"
        },
        {
            "cell_type": "markdown",
            "metadata": {},
            "source": "### Global variables"
        },
        {
            "cell_type": "code",
            "execution_count": 72,
            "metadata": {},
            "outputs": [
                {
                    "name": "stdout",
                    "output_type": "stream",
                    "text": "Michael Jackson is an artist\n"
                },
                {
                    "ename": "NameError",
                    "evalue": "name 'print1' is not defined",
                    "output_type": "error",
                    "traceback": [
                        "\u001b[0;31m---------------------------------------------------------------------------\u001b[0m",
                        "\u001b[0;31mNameError\u001b[0m                                 Traceback (most recent call last)",
                        "\u001b[0;32m/tmp/wsuser/ipykernel_154/2711409430.py\u001b[0m in \u001b[0;36m<module>\u001b[0;34m\u001b[0m\n\u001b[1;32m     10\u001b[0m \u001b[0;31m#try running the following\u001b[0m\u001b[0;34m\u001b[0m\u001b[0;34m\u001b[0m\u001b[0m\n\u001b[1;32m     11\u001b[0m \u001b[0;34m\u001b[0m\u001b[0m\n\u001b[0;32m---> 12\u001b[0;31m \u001b[0mprint1\u001b[0m\u001b[0;34m(\u001b[0m\u001b[0minternal_var1\u001b[0m\u001b[0;34m)\u001b[0m\u001b[0;34m\u001b[0m\u001b[0;34m\u001b[0m\u001b[0m\n\u001b[0m\u001b[1;32m     13\u001b[0m \u001b[0;34m\u001b[0m\u001b[0m\n\u001b[1;32m     14\u001b[0m \u001b[0;31m#This creates an error, as the variables are local not global\u001b[0m\u001b[0;34m\u001b[0m\u001b[0;34m\u001b[0m\u001b[0m\n",
                        "\u001b[0;31mNameError\u001b[0m: name 'print1' is not defined"
                    ]
                }
            ],
            "source": "# Example of a global variable\n\nartist = \"Michael Jackson\"\ndef printer1(artist):\n    internal_var1 = artist\n    print(artist, \"is an artist\")\n    \nprinter1(artist)\n\n#try running the following\n\nprint1(internal_var1)\n\n#This creates an error, as the variables are local not global"
        },
        {
            "cell_type": "code",
            "execution_count": 79,
            "metadata": {},
            "outputs": [
                {
                    "name": "stdout",
                    "output_type": "stream",
                    "text": "Michael Jackson is an artist\nWhitney Houston is an artist\n"
                }
            ],
            "source": "artist = \"Michael Jackson\"\n\ndef printer(artist):\n    global internal_var \n    internal_var= \"Whitney Houston\"\n    print(artist,\"is an artist\")\n    \n\nprinter(artist) \nprinter(internal_var)"
        },
        {
            "cell_type": "markdown",
            "metadata": {},
            "source": "### Scope of a Variable"
        },
        {
            "cell_type": "code",
            "execution_count": 84,
            "metadata": {},
            "outputs": [
                {
                    "name": "stdout",
                    "output_type": "stream",
                    "text": "Lil Pump's rating is: 0.0\nBhad Bhabie's rating is: 0.0\nmy favourite artist is: Lil Rae\n"
                }
            ],
            "source": "# Example of global variable\n\nmyFavouriteArtist = \"Lil Rae\"\n\ndef getArtistRating(artist):\n    if artist == myFavouriteArtist:\n        return 10.0\n    else:\n        return 0.0\n\nprint(\"Lil Pump's rating is:\", getArtistRating(\"Lil Pump\"))\nprint(\"Bhad Bhabie's rating is:\",getArtistRating(\"Bhad Bhabie\"))\nprint(\"my favourite artist is:\", myFavouriteArtist)"
        },
        {
            "cell_type": "code",
            "execution_count": 92,
            "metadata": {},
            "outputs": [
                {
                    "name": "stdout",
                    "output_type": "stream",
                    "text": "Lil Pump's rating is: 0.0\nBhad Bhabie's rating is: 10.0\nmy favourite artist is: Bhad Bhabie\n"
                }
            ],
            "source": "# Deleting the variable from the previous, creates a local variable\n\nmyFavouriteArtist = \"Lil Rae\"\n\ndel myFavouriteArtist\n\ndef getArtistRating(artist):\n    if artist == \"Bhad Bhabie\":\n        return 10.0\n    else:\n        return 0.0\n\nprint(\"Lil Pump's rating is:\", getArtistRating(\"Lil Pump\"))\nprint(\"Bhad Bhabie's rating is:\",getArtistRating(\"Bhad Bhabie\"))\nprint(\"my favourite artist is:\", \"Bhad Bhabie\")"
        },
        {
            "cell_type": "code",
            "execution_count": 93,
            "metadata": {},
            "outputs": [
                {
                    "name": "stdout",
                    "output_type": "stream",
                    "text": "Lil Pump's rating is: 0.0\nBhad Bhabie's rating is: 10.0\nmy favourite artist is: Lil Rae\n"
                }
            ],
            "source": "# Example of global and local variable with same name\n\nmyFavouriteArtist = \"Lil Rae\"\n\ndef getArtistRating(artist):\n    myFavouriteArtist = \"Bhad Bhabie\"\n    if artist == myFavouriteArtist:\n        return 10.0\n    else:\n        return 0.0\n\nprint(\"Lil Pump's rating is:\", getArtistRating(\"Lil Pump\"))\nprint(\"Bhad Bhabie's rating is:\",getArtistRating(\"Bhad Bhabie\"))\nprint(\"my favourite artist is:\", myFavouriteArtist)\n\n#Within the function, the local variable takes precedence, otherwise the global variables takes precedence"
        },
        {
            "cell_type": "markdown",
            "metadata": {},
            "source": "### Collections and Functions"
        },
        {
            "cell_type": "code",
            "execution_count": null,
            "metadata": {},
            "outputs": [],
            "source": ""
        }
    ],
    "metadata": {
        "kernelspec": {
            "display_name": "Python 3.9",
            "language": "python",
            "name": "python3"
        },
        "language_info": {
            "codemirror_mode": {
                "name": "ipython",
                "version": 3
            },
            "file_extension": ".py",
            "mimetype": "text/x-python",
            "name": "python",
            "nbconvert_exporter": "python",
            "pygments_lexer": "ipython3",
            "version": "3.9.7"
        }
    },
    "nbformat": 4,
    "nbformat_minor": 1
}